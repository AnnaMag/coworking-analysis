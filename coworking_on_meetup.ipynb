{
 "cells": [
  {
   "cell_type": "code",
   "execution_count": null,
   "metadata": {
    "collapsed": true
   },
   "outputs": [],
   "source": [
    "import requests\n",
    "import json\n",
    "import time\n",
    "import codecs\n",
    "import sys\n",
    "UTF8Writer = codecs.getwriter('utf8')\n",
    "sys.stdout = UTF8Writer(sys.stdout)\n",
    "import re\n",
    "from geopy.geocoders import Nominatim\n",
    "import matplotlib.pyplot as plt\n",
    "\n",
    "%matplotlib inline"
   ]
  },
  {
   "cell_type": "raw",
   "metadata": {},
   "source": [
    "Reads the api key from a file"
   ]
  },
  {
   "cell_type": "code",
   "execution_count": 76,
   "metadata": {
    "collapsed": true
   },
   "outputs": [],
   "source": [
    "def getApiKey(key_path):\n",
    "    key = \"\"\n",
    "    f = open(key_path, 'r')\n",
    "    key = f.read()\n",
    "    return key"
   ]
  },
  {
   "cell_type": "markdown",
   "metadata": {},
   "source": [
    "Functions to clean the meetup descriptions (html tags, urls and empty lines):\n"
   ]
  },
  {
   "cell_type": "code",
   "execution_count": 2,
   "metadata": {
    "collapsed": true
   },
   "outputs": [],
   "source": [
    "def cleanhtml(raw_html):\n",
    "\n",
    "  cleanr =re.compile('<.*?>') # remove html tags\n",
    "\n",
    "  cleantext = re.sub(cleanr,'', raw_html)\n",
    "\n",
    "  return cleantext\n",
    "\n",
    "def clean_urls(raw_with_links): # remove url links\n",
    " \n",
    "  cleantext = re.sub(r\"(?:\\@|https?\\://)\\S+\", \"\", raw_with_links)\n",
    " \n",
    "  return cleantext\n",
    "\n",
    "def remove_empty_lines(raw_text):\n",
    "  \n",
    "   cleanlines=re.compile(r\"[\\s+]\")\n",
    "    #re.compile(r\"^(.+?)\\n\\n((?:[A-Z]+\\n)+)\",re.MULTILINE)\n",
    "   cleanempty = re.sub(cleanlines,'', raw_text)\n",
    "\n",
    "   return cleanempty"
   ]
  },
  {
   "cell_type": "markdown",
   "metadata": {},
   "source": [
    "The following function prints the descriptions on screen (1) for visual inspection or saves for later text analyis."
   ]
  },
  {
   "cell_type": "code",
   "execution_count": 86,
   "metadata": {
    "collapsed": false
   },
   "outputs": [],
   "source": [
    "def decodeDescription(result_per_city, show_screen):\n",
    "    i = 0\n",
    "    description = []\n",
    "    while i<len(result_per_city):\n",
    "        citygroup = result_per_city[i]\n",
    "        if show_screen:\n",
    "            print(\"Name : \" + citygroup['name'])\n",
    "            try: \n",
    "                  print(\"City : \"+str(citygroup['city']))\n",
    "            except KeyError : \n",
    "                  print(\"This group has no location assigned\")\n",
    "            try: \n",
    "                  print(\"Description : \"+ clean_urls(cleanhtml(citygroup['description'])))\n",
    "            except KeyError : \n",
    "                  print(\"There is no description assigned\")\n",
    "        else:\n",
    "            description.append(clean_urls(cleanhtml(citygroup['description'])))            \n",
    "        i+=1\n",
    "    \n",
    "    return description\n"
   ]
  },
  {
   "cell_type": "markdown",
   "metadata": {},
   "source": [
    "Selection of parameters for the API calls:"
   ]
  },
  {
   "cell_type": "code",
   "execution_count": 141,
   "metadata": {
    "collapsed": false
   },
   "outputs": [],
   "source": [
    "places = [\"london\", \"berlin\",\"barcelona\", \"prague\", \"milan\", \"budapest\",\"lisboa\", \"amsterdam\", \"oslo\", \"copenhagen\", \"helsinki\", \"stockholm\",\"warsaw\", \"paris\"]\n",
    "radius = 100.0 #add the radius in miles\n",
    "data_format = \"json\"\n",
    "topic = \"coworking\" #add your choice of topic here\n",
    "per_page = 100\n",
    "api_key = \"add API KEY here\" #or read from local file: api_key = getApiKey('path_to/api_key.txt')\n",
    "\n"
   ]
  },
  {
   "cell_type": "markdown",
   "metadata": {},
   "source": [
    "Sub-function that makes the call:"
   ]
  },
  {
   "cell_type": "code",
   "execution_count": 163,
   "metadata": {
    "collapsed": true
   },
   "outputs": [],
   "source": [
    "def get_results_request(topic, radius, per_page, offset, api_key, location):\n",
    "    res_request = requests.get(\"http://api.meetup.com/2/groups\",{\"sign\":\"true\", \"lon\":str(location.longitude),\\\n",
    "             \"lat\":str(location.latitude), \"topic\": topic, \"radius\": str(radius), \"page\": per_page, \\\n",
    "             \"offset\": offset, 'key': api_key })\n",
    "    \n",
    "    res_request.raise_for_status() # check the response object for errors\n",
    "    data_req = res_request.json()\n",
    "    #print(res_request.url)\n",
    "    return data_req"
   ]
  },
  {
   "cell_type": "markdown",
   "metadata": {},
   "source": [
    "The main function:"
   ]
  },
  {
   "cell_type": "code",
   "execution_count": 190,
   "metadata": {
    "collapsed": false,
    "scrolled": false
   },
   "outputs": [
    {
     "name": "stdout",
     "output_type": "stream",
     "text": [
      "London, Greater London, England, United Kingdom\n",
      "Berlin, Deutschland\n",
      "Barcelona, BCN, CAT, España\n",
      "Praha, okres Hlavní město Praha, Hlavní město Praha, Praha, Česko\n",
      "Milano, MI, LOM, Italia\n",
      "Budapest, Budapesti kistérség, Budapest, Közép-Magyarország, Magyarország\n",
      "Lisboa, Grande Lisboa, Lisboa, Portugal\n",
      "Amsterdam, Centrum, Amsterdam, MRA, Stadsregio Amsterdam, Noord-Holland, Nederland\n",
      "Oslo, Norge\n",
      "København, Københavns Kommune, Region Hovedstaden, Danmark\n",
      "Helsinki, Helsingin seutukunta, Uusimaa, Etelä-Suomi, Suomi\n",
      "Sthlm, Stockholm, Stockholms län, Landskapet Uppland, Stockholms län, Svealand, Sverige\n",
      "Warszawa, mazowieckie, Polska\n",
      "Paris, Île-de-France, France métropolitaine, France\n"
     ]
    }
   ],
   "source": [
    "country, city, category, rating, topics, members, geo = [], [],[],[],[],[],[]\n",
    "import pandas as pd\n",
    "topic = \"coworking\"\n",
    "for place in places: \n",
    " offset = 0\n",
    " geolocator = Nominatim()\n",
    " location = geolocator.geocode(place)\n",
    " print(location)\n",
    " \n",
    " per_page_return = per_page\n",
    "    \n",
    " while (per_page_return == per_page): # make sure to fetch all the results in batches\n",
    "         resjson = get_results_request(topic, radius, per_page, offset, api_key, location)\n",
    "         time.sleep(3)\n",
    "         offset += 1\n",
    "        \n",
    "         results = resjson['results']\n",
    "         description = decodeDescription(results, 0) # 1- show on screen, else is saved to a string\n",
    "         per_page_return = len(results) # if < per_page, it means it's the last page\n",
    "         i = 0;\n",
    "         while i<len(results):\n",
    "                group_data = results[i]\n",
    "                city.append(group_data['city'])   \n",
    "                \n",
    "                # there can me many topics indicated\n",
    "                no_topics = len(group_data['topics'])\n",
    "                \n",
    "                if (no_topics > 1):\n",
    "                    topics_list = []\n",
    "                    for num in range(0, no_topics):\n",
    "                        topics_list.append(group_data['topics'][num]['name'])\n",
    "\n",
    "                    topics.append(topics_list)\n",
    "                    \n",
    "                else: \n",
    "                    topics.append(group_data['topics'][0]['name'])\n",
    "                \n",
    "                rating.append(group_data['rating'])\n",
    "                category.append(group_data['category']['name'])\n",
    "                members.append(group_data['members']) \n",
    "                country.append(group_data['country']) \n",
    "                geo.append((location.latitude, location.longitude)) \n",
    "                i+=1\n",
    "\n",
    " time.sleep(3)   # delays for traffic\n",
    "\n",
    "data_final = [country, city,topics,category,members, rating, geo]\n",
    "columns=['country', 'city','topics','category','members', 'rating', 'geo']   \n",
    "coworking_meetup = pd.DataFrame(data_final).T\n",
    "coworking_meetup.columns=columns    \n"
   ]
  },
  {
   "cell_type": "markdown",
   "metadata": {},
   "source": [
    "Some cleaning: \n",
    "- checking for empty cells (and removing)\n",
    "- running shell script to check categories (save the file and use process_meetup_csv.sh)"
   ]
  },
  {
   "cell_type": "code",
   "execution_count": 191,
   "metadata": {
    "collapsed": false
   },
   "outputs": [
    {
     "data": {
      "text/plain": [
       "(array([], dtype=int64), array([], dtype=int64))"
      ]
     },
     "execution_count": 191,
     "metadata": {},
     "output_type": "execute_result"
    }
   ],
   "source": [
    "np.where(pd.isnull(data_by_category))"
   ]
  },
  {
   "cell_type": "code",
   "execution_count": null,
   "metadata": {
    "collapsed": true
   },
   "outputs": [],
   "source": [
    "coworking_meetup.to_csv(\"coworking_meetup.csv\", header=True,  columns= columns)"
   ]
  },
  {
   "cell_type": "markdown",
   "metadata": {},
   "source": [
    "Read in the processed data (if necessary)"
   ]
  },
  {
   "cell_type": "code",
   "execution_count": 192,
   "metadata": {
    "collapsed": false
   },
   "outputs": [
    {
     "data": {
      "text/html": [
       "<div>\n",
       "<table border=\"1\" class=\"dataframe\">\n",
       "  <thead>\n",
       "    <tr style=\"text-align: right;\">\n",
       "      <th></th>\n",
       "      <th></th>\n",
       "      <th></th>\n",
       "      <th>topics</th>\n",
       "      <th>members</th>\n",
       "    </tr>\n",
       "    <tr>\n",
       "      <th>country</th>\n",
       "      <th>city</th>\n",
       "      <th>category</th>\n",
       "      <th></th>\n",
       "      <th></th>\n",
       "    </tr>\n",
       "  </thead>\n",
       "  <tbody>\n",
       "    <tr>\n",
       "      <th rowspan=\"2\" valign=\"top\">CZ</th>\n",
       "      <th rowspan=\"2\" valign=\"top\">Prague</th>\n",
       "      <th>career/business</th>\n",
       "      <td>[Coworking, Professional Networking, Communica...</td>\n",
       "      <td>2320</td>\n",
       "    </tr>\n",
       "    <tr>\n",
       "      <th>games</th>\n",
       "      <td>[Coworking, Movie Nights, Texas Hold 'em, Dinn...</td>\n",
       "      <td>466</td>\n",
       "    </tr>\n",
       "    <tr>\n",
       "      <th rowspan=\"3\" valign=\"top\">DE</th>\n",
       "      <th rowspan=\"3\" valign=\"top\">Berlin</th>\n",
       "      <th>career/business</th>\n",
       "      <td>[Work At Home, Freelance, Coworking, Business ...</td>\n",
       "      <td>3353</td>\n",
       "    </tr>\n",
       "    <tr>\n",
       "      <th>fine arts/culture</th>\n",
       "      <td>[Social Networking, Freelance, Crafts, Wellnes...</td>\n",
       "      <td>164</td>\n",
       "    </tr>\n",
       "    <tr>\n",
       "      <th>tech</th>\n",
       "      <td>[Internet Professionals, Coworking, Web Develo...</td>\n",
       "      <td>383</td>\n",
       "    </tr>\n",
       "  </tbody>\n",
       "</table>\n",
       "</div>"
      ],
      "text/plain": [
       "                                                                             topics  \\\n",
       "country city   category                                                               \n",
       "CZ      Prague career/business    [Coworking, Professional Networking, Communica...   \n",
       "               games              [Coworking, Movie Nights, Texas Hold 'em, Dinn...   \n",
       "DE      Berlin career/business    [Work At Home, Freelance, Coworking, Business ...   \n",
       "               fine arts/culture  [Social Networking, Freelance, Crafts, Wellnes...   \n",
       "               tech               [Internet Professionals, Coworking, Web Develo...   \n",
       "\n",
       "                                  members  \n",
       "country city   category                    \n",
       "CZ      Prague career/business       2320  \n",
       "               games                  466  \n",
       "DE      Berlin career/business       3353  \n",
       "               fine arts/culture      164  \n",
       "               tech                   383  "
      ]
     },
     "execution_count": 192,
     "metadata": {},
     "output_type": "execute_result"
    }
   ],
   "source": [
    "# sum up members and join topics by categories:\n",
    "data_by_category = coworking_meetup.groupby(['country','city','category']).sum()[['topics','members']]\n",
    "data_by_category.head()\n"
   ]
  },
  {
   "cell_type": "code",
   "execution_count": 205,
   "metadata": {
    "collapsed": false
   },
   "outputs": [],
   "source": [
    "data_meetupNo = coworking_meetup.groupby(['country','city','geo', 'category']).size()\n",
    "#temp.columns(['country', 'city','geo','category','topics','members'])\n",
    "data_meetupNo.to_csv(\"data_meetupNo.csv\")"
   ]
  },
  {
   "cell_type": "markdown",
   "metadata": {},
   "source": [
    "Some basic plotting:"
   ]
  },
  {
   "cell_type": "code",
   "execution_count": 194,
   "metadata": {
    "collapsed": false
   },
   "outputs": [],
   "source": [
    "def make_plots(coworking_meetup, which):\n",
    "    # custom colormap\n",
    "    from matplotlib.colors import ListedColormap\n",
    "    cmap_bold = ListedColormap(['#FF0000', '#00FF00', '#0000FF'])\n",
    "    fig = plt.figure(figsize=(8,4))\n",
    "    ax1 = fig.add_subplot(121)\n",
    "    if (which == 1) :\n",
    "        temp = coworking_meetup.groupby('city').city.count() \n",
    "        ax1.set_xlabel('City')\n",
    "        ax1.set_ylabel('number of groups in the cities')\n",
    "        ax1.set_title(\"'coworking'groups on meetup\")\n",
    "    elif (which == 2) :\n",
    "        temp = coworking_meetup.groupby('country').members.sum()/coworking_meetup.groupby('country').members.count()\n",
    "        ax1.set_xlabel('country')\n",
    "        ax1.set_ylabel('av. number of members per meetup')\n",
    "        ax1.set_title(\"average memberships in coworking meetups across countries\")\n",
    "        \n",
    "    else:  \n",
    "        temp = coworking_meetup.groupby('country').rating.sum()/coworking_meetup.groupby('country').rating.count()\n",
    "        ax1.set_xlabel('country')\n",
    "        ax1.set_ylabel('av. rating per country')\n",
    "        ax1.set_title(\"average memberships in coworking meetups across countries\")\n",
    "        \n",
    "    temp.plot(kind='bar')\n",
    "\n",
    "\n"
   ]
  },
  {
   "cell_type": "code",
   "execution_count": 196,
   "metadata": {
    "collapsed": false,
    "scrolled": true
   },
   "outputs": [
    {
     "data": {
      "image/png": "[encoded data removed]",
      "text/plain": [
       "<matplotlib.figure.Figure at 0x10c44a940>"
      ]
     },
     "metadata": {},
     "output_type": "display_data"
    }
   ],
   "source": [
    "make_plots(coworking_meetup, 3) # options: 1-3\n"
   ]
  },
  {
   "cell_type": "markdown",
   "metadata": {},
   "source": [
    "(The Poles people as always... not that easily pleased:))"
   ]
  },
  {
   "cell_type": "code",
   "execution_count": 180,
   "metadata": {
    "collapsed": false,
    "scrolled": false
   },
   "outputs": [
    {
     "data": {
      "text/html": [
       "<div>\n",
       "<table border=\"1\" class=\"dataframe\">\n",
       "  <thead>\n",
       "    <tr style=\"text-align: right;\">\n",
       "      <th></th>\n",
       "      <th>country</th>\n",
       "      <th>city</th>\n",
       "      <th>topics</th>\n",
       "      <th>category</th>\n",
       "      <th>members</th>\n",
       "      <th>rating</th>\n",
       "      <th>geo</th>\n",
       "    </tr>\n",
       "  </thead>\n",
       "  <tbody>\n",
       "    <tr>\n",
       "      <th>87</th>\n",
       "      <td>SK</td>\n",
       "      <td>Bratislava</td>\n",
       "      <td>[Small Business, Work At Home, Freelance, Cowo...</td>\n",
       "      <td>career/business</td>\n",
       "      <td>124</td>\n",
       "      <td>0</td>\n",
       "      <td>(47.4983815, 19.0404707)</td>\n",
       "    </tr>\n",
       "    <tr>\n",
       "      <th>111</th>\n",
       "      <td>SE</td>\n",
       "      <td>Stockholm</td>\n",
       "      <td>[Marketing, Innovation, Software Development, ...</td>\n",
       "      <td>career/business</td>\n",
       "      <td>2145</td>\n",
       "      <td>5</td>\n",
       "      <td>(59.3251172, 18.0710935)</td>\n",
       "    </tr>\n",
       "    <tr>\n",
       "      <th>106</th>\n",
       "      <td>SE</td>\n",
       "      <td>Stockholm</td>\n",
       "      <td>[Nightlife, Social Networking, New Technology,...</td>\n",
       "      <td>tech</td>\n",
       "      <td>987</td>\n",
       "      <td>4.84</td>\n",
       "      <td>(59.3251172, 18.0710935)</td>\n",
       "    </tr>\n",
       "    <tr>\n",
       "      <th>105</th>\n",
       "      <td>SE</td>\n",
       "      <td>Stockholm</td>\n",
       "      <td>[Web Design, Coworking, Entrepreneurship, Star...</td>\n",
       "      <td>tech</td>\n",
       "      <td>590</td>\n",
       "      <td>4.7</td>\n",
       "      <td>(59.3251172, 18.0710935)</td>\n",
       "    </tr>\n",
       "    <tr>\n",
       "      <th>107</th>\n",
       "      <td>SE</td>\n",
       "      <td>Stockholm</td>\n",
       "      <td>[Small Business, Work At Home, Freelance, Cowo...</td>\n",
       "      <td>career/business</td>\n",
       "      <td>259</td>\n",
       "      <td>4.95</td>\n",
       "      <td>(59.3251172, 18.0710935)</td>\n",
       "    </tr>\n",
       "    <tr>\n",
       "      <th>112</th>\n",
       "      <td>SE</td>\n",
       "      <td>Uppsala</td>\n",
       "      <td>[International and Exchange Students, Expat, L...</td>\n",
       "      <td>language/ethnic identity</td>\n",
       "      <td>184</td>\n",
       "      <td>5</td>\n",
       "      <td>(59.3251172, 18.0710935)</td>\n",
       "    </tr>\n",
       "    <tr>\n",
       "      <th>109</th>\n",
       "      <td>SE</td>\n",
       "      <td>Uppsala</td>\n",
       "      <td>[Coworking, Professional Networking, Entrepren...</td>\n",
       "      <td>career/business</td>\n",
       "      <td>172</td>\n",
       "      <td>4.87</td>\n",
       "      <td>(59.3251172, 18.0710935)</td>\n",
       "    </tr>\n",
       "    <tr>\n",
       "      <th>108</th>\n",
       "      <td>SE</td>\n",
       "      <td>Stockholm</td>\n",
       "      <td>[Coworking, Entrepreneurship, Co Working, Star...</td>\n",
       "      <td>career/business</td>\n",
       "      <td>133</td>\n",
       "      <td>4.93</td>\n",
       "      <td>(59.3251172, 18.0710935)</td>\n",
       "    </tr>\n",
       "    <tr>\n",
       "      <th>113</th>\n",
       "      <td>SE</td>\n",
       "      <td>Stockholm</td>\n",
       "      <td>[Small Business, Freelance, Coworking, Young P...</td>\n",
       "      <td>career/business</td>\n",
       "      <td>128</td>\n",
       "      <td>5</td>\n",
       "      <td>(59.3251172, 18.0710935)</td>\n",
       "    </tr>\n",
       "    <tr>\n",
       "      <th>110</th>\n",
       "      <td>SE</td>\n",
       "      <td>Stockholm</td>\n",
       "      <td>[Work At Home, Freelance, Coworking, Entrepren...</td>\n",
       "      <td>career/business</td>\n",
       "      <td>20</td>\n",
       "      <td>5</td>\n",
       "      <td>(59.3251172, 18.0710935)</td>\n",
       "    </tr>\n",
       "  </tbody>\n",
       "</table>\n",
       "</div>"
      ],
      "text/plain": [
       "    country        city                                             topics  \\\n",
       "87       SK  Bratislava  [Small Business, Work At Home, Freelance, Cowo...   \n",
       "111      SE   Stockholm  [Marketing, Innovation, Software Development, ...   \n",
       "106      SE   Stockholm  [Nightlife, Social Networking, New Technology,...   \n",
       "105      SE   Stockholm  [Web Design, Coworking, Entrepreneurship, Star...   \n",
       "107      SE   Stockholm  [Small Business, Work At Home, Freelance, Cowo...   \n",
       "112      SE     Uppsala  [International and Exchange Students, Expat, L...   \n",
       "109      SE     Uppsala  [Coworking, Professional Networking, Entrepren...   \n",
       "108      SE   Stockholm  [Coworking, Entrepreneurship, Co Working, Star...   \n",
       "113      SE   Stockholm  [Small Business, Freelance, Coworking, Young P...   \n",
       "110      SE   Stockholm  [Work At Home, Freelance, Coworking, Entrepren...   \n",
       "\n",
       "                     category members rating                       geo  \n",
       "87            career/business     124      0  (47.4983815, 19.0404707)  \n",
       "111           career/business    2145      5  (59.3251172, 18.0710935)  \n",
       "106                      tech     987   4.84  (59.3251172, 18.0710935)  \n",
       "105                      tech     590    4.7  (59.3251172, 18.0710935)  \n",
       "107           career/business     259   4.95  (59.3251172, 18.0710935)  \n",
       "112  language/ethnic identity     184      5  (59.3251172, 18.0710935)  \n",
       "109           career/business     172   4.87  (59.3251172, 18.0710935)  \n",
       "108           career/business     133   4.93  (59.3251172, 18.0710935)  \n",
       "113           career/business     128      5  (59.3251172, 18.0710935)  \n",
       "110           career/business      20      5  (59.3251172, 18.0710935)  "
      ]
     },
     "execution_count": 180,
     "metadata": {},
     "output_type": "execute_result"
    }
   ],
   "source": [
    "# select top 10 largest (in terms of members) groups per country \n",
    "coworking_meetup.sort(['country','members'], ascending=[False,False]).head(10)"
   ]
  },
  {
   "cell_type": "code",
   "execution_count": 207,
   "metadata": {
    "collapsed": false
   },
   "outputs": [
    {
     "data": {
      "text/plain": [
       "country  city                      geo                           category                \n",
       "CZ       Prague                    (50.0874401, 14.4212556)      career/business              4\n",
       "                                                                 games                        1\n",
       "DE       Berlin                    (52.5170365, 13.3888599)      career/business             10\n",
       "                                                                 fine arts/culture            1\n",
       "                                                                 tech                         2\n",
       "         Brandenburg               (52.5170365, 13.3888599)      outdoors/adventure           1\n",
       "         Düsseldorf                (52.374436, 4.8979956033677)  career/business              1\n",
       "                                                                 tech                         1\n",
       "         Köln                      (52.374436, 4.8979956033677)  career/business              2\n",
       "DK       Copenhagen                (55.6867243, 12.5700724)      tech                         1\n",
       "ES       Barcelona                 (41.3825596, 2.1771353)       career/business              9\n",
       "                                                                 community/environment        2\n",
       "                                                                 fine arts/culture            1\n",
       "                                                                 health/wellbeing             1\n",
       "                                                                 hobbies/crafts               1\n",
       "                                                                 tech                         2\n",
       "         Mataró                    (41.3825596, 2.1771353)       tech                         1\n",
       "         Vilanova i la Geltrú      (41.3825596, 2.1771353)       hobbies/crafts               1\n",
       "FI       Helsinki                  (60.1666277, 24.9435079)      tech                         1\n",
       "         Sipoo                     (60.1666277, 24.9435079)      career/business              1\n",
       "FR       Amiens                    (48.8565056, 2.3521334)       career/business              1\n",
       "         Guyancourt                (48.8565056, 2.3521334)       career/business              1\n",
       "         Malakoff                  (48.8565056, 2.3521334)       career/business              1\n",
       "         Mennecy                   (48.8565056, 2.3521334)       career/business              1\n",
       "         Paris                     (48.8565056, 2.3521334)       career/business             22\n",
       "                                                                 parents/family               1\n",
       "                                                                 tech                         1\n",
       "         Suresnes                  (48.8565056, 2.3521334)       career/business              1\n",
       "         Villeneuve-Saint-Georges  (48.8565056, 2.3521334)       career/business              1\n",
       "GB       Bournemouth               (51.5073219, -0.1276473)      career/business              1\n",
       "                                                                                             ..\n",
       "         London                    (51.5073219, -0.1276473)      career/business             18\n",
       "                                                                 fine arts/culture            1\n",
       "                                                                 health/wellbeing             1\n",
       "                                                                 language/ethnic identity     1\n",
       "                                                                 tech                         2\n",
       "         Maidstone                 (51.5073219, -0.1276473)      career/business              1\n",
       "         Norwich                   (51.5073219, -0.1276473)      career/business              1\n",
       "         Oxford                    (51.5073219, -0.1276473)      fine arts/culture            1\n",
       "                                                                 tech                         1\n",
       "         Port Solent               (51.5073219, -0.1276473)      career/business              1\n",
       "         Reading                   (51.5073219, -0.1276473)      career/business              2\n",
       "                                                                 tech                         1\n",
       "         Redhill                   (51.5073219, -0.1276473)      career/business              1\n",
       "         St Ives                   (51.5073219, -0.1276473)      career/business              1\n",
       "         Wembley                   (51.5073219, -0.1276473)      career/business              1\n",
       "         Wing                      (51.5073219, -0.1276473)      career/business              1\n",
       "         Worthing                  (51.5073219, -0.1276473)      career/business              1\n",
       "HU       Budapest                  (47.4983815, 19.0404707)      career/business              3\n",
       "IT       Bergamo                   (45.4667971, 9.1904984)       community/environment        1\n",
       "         Torino                    (45.4667971, 9.1904984)       career/business              1\n",
       "NL       Amsterdam                 (52.374436, 4.8979956033677)  career/business              5\n",
       "                                                                 tech                         1\n",
       "         Den Haag                  (52.374436, 4.8979956033677)  career/business              1\n",
       "NO       Oslo                      (59.9132694, 10.7391112)      fine arts/culture            1\n",
       "PL       Warsaw                    (52.2319237, 21.0067265)      career/business              2\n",
       "SE       Stockholm                 (59.3251172, 18.0710935)      career/business              5\n",
       "                                                                 tech                         2\n",
       "         Uppsala                   (59.3251172, 18.0710935)      career/business              1\n",
       "                                                                 language/ethnic identity     1\n",
       "SK       Bratislava                (47.4983815, 19.0404707)      career/business              1\n",
       "dtype: int64"
      ]
     },
     "execution_count": 207,
     "metadata": {},
     "output_type": "execute_result"
    }
   ],
   "source": [
    "data_meetupNo = coworking_meetup.groupby(['country','city','geo', 'category']).size()\n",
    "#data_meetupNo.head()"
   ]
  },
  {
   "cell_type": "markdown",
   "metadata": {},
   "source": [
    "## NOTE  geo location is approximated, so a fix needed for maps\n",
    "(Bergamo and Turin are too far apart to accept this inconsistency)\n",
    "\n"
   ]
  },
  {
   "cell_type": "markdown",
   "metadata": {},
   "source": [
    "Text analysis on the Description data using NLTK (tokenizing, stematizing etc) + grouping by country (word cloud?) : to be done"
   ]
  }
 ],
 "metadata": {
  "kernelspec": {
   "display_name": "Python 3",
   "language": "python",
   "name": "python3"
  },
  "language_info": {
   "codemirror_mode": {
    "name": "ipython",
    "version": 3
   },
   "file_extension": ".py",
   "mimetype": "text/x-python",
   "name": "python",
   "nbconvert_exporter": "python",
   "pygments_lexer": "ipython3",
   "version": "3.4.3"
  }
 },
 "nbformat": 4,
 "nbformat_minor": 0
}
